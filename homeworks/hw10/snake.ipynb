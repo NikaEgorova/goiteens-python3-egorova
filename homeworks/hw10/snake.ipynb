{
 "cells": [
  {
   "cell_type": "code",
   "execution_count": 89,
   "metadata": {
    "scrolled": false
   },
   "outputs": [
    {
     "name": "stdout",
     "output_type": "stream",
     "text": [
      "Snake: 2\n",
      "Snake: 3\n",
      "Snake: 4\n",
      "Snake: 5\n",
      "Snake: 6\n",
      "Snake: 7\n",
      "Snake: 8\n",
      "Snake: 9\n",
      "Snake: 10\n",
      "Snake: 11\n",
      "Snake: 12\n"
     ]
    }
   ],
   "source": [
    "# підключаємо бібліотеки \n",
    "from turtle import * # черепашка\n",
    "from random import randrange # рандом\n",
    "from freegames import square, vector # freegames - вектори\n",
    "\n",
    "food = vector(-40, 20) # 0, 0 початкові координати\n",
    "snake = [vector(40, 30)] # 10, 0 початкові координати змійки\n",
    "aim = vector(0, 10) # 0, -10 початковий напрям змійки\n",
    "\n",
    "def change(x, y):\n",
    "    aim.x = x\n",
    "    aim.y = y\n",
    "\n",
    "def inside(head):\n",
    "    # Перевірка на те чи ми знаходимось всередині карти\n",
    "    # Границі карти в пікселях, можна міняти\n",
    "    return -350 < head.x < 340 and -250 < head.y < 250\n",
    "\n",
    "def move():\n",
    "    # рух змійки\n",
    "    head = snake[-1].copy()\n",
    "    head.move(aim)\n",
    "    # Створюємо червоний квадрат перед змійкою, якщо вона вилазить за межі карти\n",
    "    if not inside(head) or head in snake:\n",
    "        square(head.x, head.y, 9, 'red')\n",
    "        update()\n",
    "        return\n",
    "\n",
    "    snake.append(head)\n",
    "    \n",
    "    # рандомна поява їжі\n",
    "    if head == food:\n",
    "        print('Snake:', len(snake))\n",
    "        food.x = randrange(-10, 20) * 10\n",
    "        food.y = randrange(-20, 10) * 10\n",
    "    else:\n",
    "        snake.pop(0)\n",
    "\n",
    "    clear()\n",
    "    # колір змійки \n",
    "    \n",
    "    for body in snake:\n",
    "        square(body.x, body.y, 9, 'green')\n",
    "    \n",
    "    # колір їжі\n",
    "    square(food.x, food.y, 9, 'blue')\n",
    "    update()\n",
    "    ontimer(move, 100)\n",
    "# початковий розмір екрану\n",
    "setup(720, 520, 570, 0)\n",
    "bgcolor(\"yellow\")\n",
    "hideturtle()\n",
    "tracer(False)\n",
    "listen()\n",
    "# клавіші управління, можна міняти\n",
    "onkey(lambda: change(10, 0), 'Right') # d\n",
    "onkey(lambda: change(-10, 0), 'Left') # a\n",
    "onkey(lambda: change(0, 10), 'Up') # w\n",
    "onkey(lambda: change(0, -10), 'Down') # s\n",
    "move()\n",
    "done()"
   ]
  },
  {
   "cell_type": "code",
   "execution_count": null,
   "metadata": {},
   "outputs": [],
   "source": []
  }
 ],
 "metadata": {
  "kernelspec": {
   "display_name": "Python 3",
   "language": "python",
   "name": "python3"
  },
  "language_info": {
   "codemirror_mode": {
    "name": "ipython",
    "version": 3
   },
   "file_extension": ".py",
   "mimetype": "text/x-python",
   "name": "python",
   "nbconvert_exporter": "python",
   "pygments_lexer": "ipython3",
   "version": "3.8.5"
  }
 },
 "nbformat": 4,
 "nbformat_minor": 4
}
