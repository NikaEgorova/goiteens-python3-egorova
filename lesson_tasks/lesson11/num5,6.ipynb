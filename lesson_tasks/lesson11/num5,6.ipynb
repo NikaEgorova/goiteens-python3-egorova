{
 "cells": [
  {
   "cell_type": "code",
   "execution_count": 58,
   "metadata": {},
   "outputs": [
    {
     "name": "stdout",
     "output_type": "stream",
     "text": [
      "Рожевий виграв!\n"
     ]
    }
   ],
   "source": [
    "from turtle import *\n",
    "from freegames import square, vector\n",
    "\n",
    "# перший гравець\n",
    "# початкова точка\n",
    "p1xy = vector(-200, 30)\n",
    "# напрямок\n",
    "p1aim = vector(4, 0)\n",
    "p1body = set()\n",
    "\n",
    "# другий гравець\n",
    "# початкова точка\n",
    "p2xy = vector(100, 0)\n",
    "# напрямок\n",
    "p2aim = vector(-4, 0)\n",
    "p2body = set()\n",
    "\n",
    "# третій гравець\n",
    "# початкова точка\n",
    "p3xy = vector(200, -20)\n",
    "# напрямок\n",
    "p3aim = vector(-5, 0)\n",
    "p3body = set()\n",
    "\n",
    "# чи ми знаходимся в межах карти\n",
    "def inside(head):\n",
    "    \"Return True if head inside screen.\"\n",
    "    return -200 < head.x < 200 and -200 < head.y < 200\n",
    "\n",
    "def draw():\n",
    "    \"Advance players and draw game.\"\n",
    "    # рух гравця 1\n",
    "    p1xy.move(p1aim)\n",
    "    p1head = p1xy.copy()\n",
    "    \n",
    "    # рух гравця 2\n",
    "    p2xy.move(p2aim)\n",
    "    p2head = p2xy.copy()\n",
    "    \n",
    "    # рух гравця 3\n",
    "    p3xy.move(p3aim)\n",
    "    p3head = p3xy.copy()\n",
    "\n",
    "    # перевірка чи гравець 1 врізався в гравця 2\n",
    "    if not inside(p1head) or p1head in p2body:\n",
    "        print('Рожевий виграв!')\n",
    "        return\n",
    "\n",
    "    # перевірка чи гравець 2 врізався в гравця 1\n",
    "    if not inside(p2head) or p2head in p1body:\n",
    "        print('Жовтий виграв!')\n",
    "        return\n",
    "\n",
    "    # збільшення тіла гравця 1\n",
    "    p1body.add(p1head)\n",
    "    # збільшення тіла гравця 2\n",
    "    p2body.add(p2head)\n",
    "\n",
    "    # вигляд обох гравців, цифра 3 означає розмір, а колір можна міняти\n",
    "    square(p1xy.x, p1xy.y, 3, '#faee0a')\n",
    "    square(p2xy.x, p2xy.y, 3, '#f50aed')\n",
    "    square(p3xy.x, p3xy.y, 3, '#19f7f0')\n",
    "    update()\n",
    "    # швидкість руху гравців\n",
    "    ontimer(draw, 100)\n",
    "\n",
    "setup(420, 420, 370, 0)\n",
    "bgcolor(\"#71fc6f\")\n",
    "hideturtle()\n",
    "tracer(False)\n",
    "listen()\n",
    "onkey(lambda: p1aim.rotate(90), 'q')\n",
    "onkey(lambda: p1aim.rotate(-90), 'e')\n",
    "onkey(lambda: p2aim.rotate(90), '4')\n",
    "onkey(lambda: p2aim.rotate(-90), '6')\n",
    "onkey(lambda: p3aim.rotate(90), '1')\n",
    "onkey(lambda: p3aim.rotate(-90), '3')\n",
    "draw()\n",
    "done()"
   ]
  },
  {
   "cell_type": "code",
   "execution_count": null,
   "metadata": {},
   "outputs": [],
   "source": []
  }
 ],
 "metadata": {
  "kernelspec": {
   "display_name": "Python 3",
   "language": "python",
   "name": "python3"
  },
  "language_info": {
   "codemirror_mode": {
    "name": "ipython",
    "version": 3
   },
   "file_extension": ".py",
   "mimetype": "text/x-python",
   "name": "python",
   "nbconvert_exporter": "python",
   "pygments_lexer": "ipython3",
   "version": "3.8.5"
  }
 },
 "nbformat": 4,
 "nbformat_minor": 4
}
