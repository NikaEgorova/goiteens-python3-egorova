{
 "cells": [
  {
   "cell_type": "code",
   "execution_count": 6,
   "metadata": {},
   "outputs": [
    {
     "name": "stdout",
     "output_type": "stream",
     "text": [
      "Перше - друге  =  -150\n",
      "Друге - перше =  150\n",
      "Модуль першої різниці =  150\n",
      "Модуль другої різниці =  150\n",
      "Число додатне\n"
     ]
    }
   ],
   "source": [
    "num1 = -50\n",
    "num2 = 100\n",
    "diff1 = num1 - num2\n",
    "diff2 = num2 - num1\n",
    "print(\"Перше - друге  = \", diff1)\n",
    "print(\"Друге - перше = \", diff2)\n",
    "mod1 = abs(diff1)\n",
    "mod2 = abs(diff2)\n",
    "print(\"Модуль першої різниці = \", mod1)\n",
    "print(\"Модуль другої різниці = \", mod2)\n",
    "if mod1 and mod2 > 0:\n",
    "    print(\"Число додатне\")\n",
    "else:\n",
    "    print(\"Завдання виконано неправильно\")"
   ]
  },
  {
   "cell_type": "code",
   "execution_count": null,
   "metadata": {},
   "outputs": [],
   "source": []
  }
 ],
 "metadata": {
  "kernelspec": {
   "display_name": "Python 3",
   "language": "python",
   "name": "python3"
  },
  "language_info": {
   "codemirror_mode": {
    "name": "ipython",
    "version": 3
   },
   "file_extension": ".py",
   "mimetype": "text/x-python",
   "name": "python",
   "nbconvert_exporter": "python",
   "pygments_lexer": "ipython3",
   "version": "3.8.5"
  }
 },
 "nbformat": 4,
 "nbformat_minor": 4
}
