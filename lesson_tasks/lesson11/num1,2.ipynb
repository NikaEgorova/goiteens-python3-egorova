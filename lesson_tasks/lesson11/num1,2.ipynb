{
 "cells": [
  {
   "cell_type": "code",
   "execution_count": 15,
   "metadata": {
    "scrolled": true
   },
   "outputs": [],
   "source": [
    "import random"
   ]
  },
  {
   "cell_type": "code",
   "execution_count": null,
   "metadata": {
    "scrolled": true
   },
   "outputs": [],
   "source": [
    "number = random.randrange(0,100)\n",
    "print(\"Рандомне число: \", number)"
   ]
  },
  {
   "cell_type": "code",
   "execution_count": null,
   "metadata": {},
   "outputs": [
    {
     "name": "stdout",
     "output_type": "stream",
     "text": [
      "Введіть число від 0 до 10 включно: 1\n",
      "Рандомне число:  1\n",
      "You Win!\n",
      "Введіть число від 0 до 10 включно: 12\n",
      "Рандомне число:  4\n",
      "Please enter number again\n",
      "Введіть число від 0 до 10 включно: 15\n",
      "Рандомне число:  6\n",
      "Please enter number again\n",
      "Введіть число від 0 до 10 включно: 11\n",
      "Рандомне число:  4\n",
      "Please enter number again\n",
      "Введіть число від 0 до 10 включно: 10\n",
      "Рандомне число:  3\n",
      "You Lose!\n",
      "Введіть число від 0 до 10 включно: 1\n",
      "Рандомне число:  4\n",
      "You Lose!\n",
      "Введіть число від 0 до 10 включно: 4\n",
      "Рандомне число:  6\n",
      "You Lose!\n"
     ]
    }
   ],
   "source": [
    "while True:\n",
    "    num = int(input(\"Введіть число від 0 до 10 включно: \"))\n",
    "    rand_num = random.randrange(0,11)\n",
    "    print(\"Рандомне число: \", rand_num)\n",
    "    if num == rand_num:\n",
    "        print(\"You Win!\")\n",
    "    elif num > 10:\n",
    "        print(\"Please enter number again\")\n",
    "    else:\n",
    "        print(\"You Lose!\")"
   ]
  },
  {
   "cell_type": "code",
   "execution_count": null,
   "metadata": {},
   "outputs": [],
   "source": []
  }
 ],
 "metadata": {
  "kernelspec": {
   "display_name": "Python 3",
   "language": "python",
   "name": "python3"
  },
  "language_info": {
   "codemirror_mode": {
    "name": "ipython",
    "version": 3
   },
   "file_extension": ".py",
   "mimetype": "text/x-python",
   "name": "python",
   "nbconvert_exporter": "python",
   "pygments_lexer": "ipython3",
   "version": "3.8.5"
  }
 },
 "nbformat": 4,
 "nbformat_minor": 4
}
