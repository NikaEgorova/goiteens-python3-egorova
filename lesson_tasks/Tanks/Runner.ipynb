{
 "cells": [
  {
   "cell_type": "code",
   "execution_count": 6,
   "metadata": {},
   "outputs": [
    {
     "ename": "SystemExit",
     "evalue": "",
     "output_type": "error",
     "traceback": [
      "An exception has occurred, use %tb to see the full traceback.\n",
      "\u001b[1;31mSystemExit\u001b[0m\n"
     ]
    }
   ],
   "source": [
    "'''\n",
    "Function:\n",
    "    经典坦克大战小游戏\n",
    "Author:\n",
    "    Charles\n",
    "微信公众号:\n",
    "    Charles的皮卡丘\n",
    "'''\n",
    "import os\n",
    "import cfg\n",
    "import pygame\n",
    "from modules import *\n",
    "\n",
    "\n",
    "'''主函数'''\n",
    "def main(cfg):\n",
    "    # 游戏初始化\n",
    "    pygame.init()\n",
    "    pygame.mixer.init()\n",
    "    screen = pygame.display.set_mode((cfg.WIDTH, cfg.HEIGHT))\n",
    "    pygame.display.set_caption(cfg.TITLE)\n",
    "    # 加载游戏素材\n",
    "    sounds = {}\n",
    "    for key, value in cfg.AUDIO_PATHS.items():\n",
    "        sounds[key] = pygame.mixer.Sound(value)\n",
    "        sounds[key].set_volume(1)\n",
    "    # 开始界面\n",
    "    is_dual_mode = gameStartInterface(screen, cfg)\n",
    "    # 关卡数\n",
    "    levelfilepaths = [os.path.join(cfg.LEVELFILEDIR, filename) for filename in sorted(os.listdir(cfg.LEVELFILEDIR))]\n",
    "    # 主循环\n",
    "    for idx, levelfilepath in enumerate(levelfilepaths):\n",
    "        switchLevelIterface(screen, cfg, idx+1)\n",
    "        game_level = GameLevel(idx+1, levelfilepath, sounds, is_dual_mode, cfg)\n",
    "        is_win = game_level.start(screen)\n",
    "        if not is_win: break\n",
    "    is_quit_game = gameEndIterface(screen, cfg, is_win)\n",
    "    return is_quit_game\n",
    "\n",
    "\n",
    "'''run'''\n",
    "if __name__ == '__main__':\n",
    "    while True:\n",
    "        is_quit_game = main(cfg)\n",
    "        if is_quit_game:\n",
    "            break"
   ]
  },
  {
   "cell_type": "code",
   "execution_count": null,
   "metadata": {},
   "outputs": [],
   "source": []
  },
  {
   "cell_type": "code",
   "execution_count": null,
   "metadata": {},
   "outputs": [],
   "source": []
  },
  {
   "cell_type": "code",
   "execution_count": null,
   "metadata": {},
   "outputs": [],
   "source": []
  }
 ],
 "metadata": {
  "kernelspec": {
   "display_name": "Python 3",
   "language": "python",
   "name": "python3"
  },
  "language_info": {
   "codemirror_mode": {
    "name": "ipython",
    "version": 3
   },
   "file_extension": ".py",
   "mimetype": "text/x-python",
   "name": "python",
   "nbconvert_exporter": "python",
   "pygments_lexer": "ipython3",
   "version": "3.8.5"
  }
 },
 "nbformat": 4,
 "nbformat_minor": 4
}
